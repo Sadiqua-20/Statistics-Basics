{
  "nbformat": 4,
  "nbformat_minor": 0,
  "metadata": {
    "colab": {
      "provenance": [],
      "collapsed_sections": [
        "kyjjDQnfOR0I"
      ]
    },
    "kernelspec": {
      "name": "python3",
      "display_name": "Python 3"
    },
    "language_info": {
      "name": "python"
    }
  },
  "cells": [
    {
      "cell_type": "markdown",
      "source": [
        "#**STATISTICS BASICS**"
      ],
      "metadata": {
        "id": "J_hQgXSZOIbW"
      }
    },
    {
      "cell_type": "markdown",
      "source": [
        "# **THEORETICAL QUESTIONS**"
      ],
      "metadata": {
        "id": "kyjjDQnfOR0I"
      }
    },
    {
      "cell_type": "markdown",
      "source": [
        "##Q1. What is statistics, and why is it important?"
      ],
      "metadata": {
        "id": "6_OVnRKaOdqh"
      }
    },
    {
      "cell_type": "markdown",
      "source": [
        "##ANS 1.\n",
        "\n",
        "**Statistics** is the branch of mathematics that deals with **collecting**, **organizing**, **analyzing**, **interpreting**, and **presenting data** in such a way that meaningful inferences can be drawn. It helps in making informed decisions by identifying patterns, trends, and relationships within data.\n",
        "\n",
        "**Importance of Statistics:**\n",
        "1. **Decision Making** - Helps businesses, governments, and individuals make data-driven decisions.\n",
        "2. **Scientific Research** - Essential for analyzing experimental results and validating hypotheses.\n",
        "3. **Economics & Finance** - Used in market analysis, risk assessment, and economic planning.\n",
        "4. **Healthcare** - Helps in medical research, epidemiology, and patient care improvements.\n",
        "5. **In industries** - Ensures product consistency and process efficiency in industries.\n",
        "6. **Social Sciences** - Helps understand societal trends, behaviors, and policy impacts.\n",
        "7. **Helps in Sports Analytics**"
      ],
      "metadata": {
        "id": "IdHgWznMRc1o"
      }
    },
    {
      "cell_type": "markdown",
      "source": [
        "##Q2. What are the two main types of statistics?"
      ],
      "metadata": {
        "id": "cIYaIZkmPSSP"
      }
    },
    {
      "cell_type": "markdown",
      "source": [
        "##ANS 2.\n",
        "\n",
        "Statistics is mainly of two types :\n",
        "1. **DESCRIPTIVE STATISTICS:** It consists of organizing and summarizing the complete data (of population).\n",
        "2. **INFERENTIAL STATISTICS:** It consists of using sample data that has been measured to form conclusions about the population from which the sample was taken."
      ],
      "metadata": {
        "id": "GMSspI09UM4M"
      }
    },
    {
      "cell_type": "markdown",
      "source": [
        "##Q3. What are descriptive statistics?"
      ],
      "metadata": {
        "id": "dLr4JlgVPWlA"
      }
    },
    {
      "cell_type": "markdown",
      "source": [
        "##ANS 3.\n",
        "\n",
        "**Descriptive Statistics** consists of organizing and summarizing the basic features of a dataset or a population. They provide an overview of the data, including its central tendency, variability(or dispersion), and symmetricity.  \n",
        "\n",
        "**Example:**  \n",
        "When we see an app rating or star rating of an app or the rating of any product on e-commerce websites, they are the average of all the ratings provided by many customers over the period. And that keeps on changing as new ratings are added to them regularly."
      ],
      "metadata": {
        "id": "7peEo08uWYPr"
      }
    },
    {
      "cell_type": "markdown",
      "source": [
        "##Q4. What is inferential statistics?"
      ],
      "metadata": {
        "id": "gfz2BVqMPd3g"
      }
    },
    {
      "cell_type": "markdown",
      "source": [
        "##ANS 4.\n",
        "\n",
        "**Inferential Statistics** consists of using sample data that has been measured to form conclusions about the population from which the sample was taken.  \n",
        "\n",
        "Inferential statistics is a decision, estimate, prediction, or generalisation about a population based on a sample.\n",
        "Here we deal with the sample/samples and compare them and perform some tests to draw some conclusions about the population data based on the observations from the sample.\n",
        "\n",
        "\n",
        "**Example:**   \n",
        "Suppose we need to find out the average height of people of India. But India being densely populated country, it is not possible to calculate the heights of each and every individual for average measurement. So instead we can collect data from some individuals of different states/territories (sample) and find the average height and make conclusions about the entire population. This is Inferential Statistics.      \n"
      ],
      "metadata": {
        "id": "8NjUmzzUd50T"
      }
    },
    {
      "cell_type": "markdown",
      "source": [
        "##Q5. What is sampling in statistics?"
      ],
      "metadata": {
        "id": "P9_e9JSNPi1p"
      }
    },
    {
      "cell_type": "markdown",
      "source": [
        "##ANS 5.\n",
        "\n",
        "**Sampling** is the process of selecting a subset of individuals or observations from a larger population to analyze and make inferences about the whole population. Since studying an entire population is often impractical due to time, cost, or feasibility constraints, sampling provides an efficient way to gather meaningful insights."
      ],
      "metadata": {
        "id": "l1uPe64YkQbT"
      }
    },
    {
      "cell_type": "markdown",
      "source": [
        "##Q6. What are the different types of sampling methods?"
      ],
      "metadata": {
        "id": "z-w1nbjgPn7R"
      }
    },
    {
      "cell_type": "markdown",
      "source": [
        "##ANS 6.\n",
        "\n",
        "The different types of sampling methods are as follows :\n",
        "1. **Simple Random Sampling (SRS) :** Every member of the population has an equal chance of being selected.\n",
        "2. **Stratified Random Sampling :** The population is divided into subgroups (strata), and a random sample is taken from each stratum.\n",
        "3. **Systematic Random Sampling :** Every $n^{th}$ member of the population is selected, where $n$ is a fixed interval.\n",
        "4. **Cluster Random Sampling :** The population is divided into clusters, and a random sample of clusters is selected."
      ],
      "metadata": {
        "id": "lfuG_UBHouUz"
      }
    },
    {
      "cell_type": "markdown",
      "source": [
        "##Q7. What is the difference between random and non-random sampling?"
      ],
      "metadata": {
        "id": "x1F3vY06PriK"
      }
    },
    {
      "cell_type": "markdown",
      "source": [
        "##ANS 7.\n",
        "\n",
        "**Random Sampling:**\n",
        "\n",
        "1. Every member of the population has an equal chance of being selected.\n",
        "2. The selection process is based on chance, using methods such as random number generators or lottery systems.\n",
        "3. The sample is representative of the population, as every member has an equal opportunity to be selected.\n",
        "4. Bias is minimized, as the selection process is free from personal opinions or biases.\n",
        "\n",
        "**Non-Random Sampling:**\n",
        "\n",
        "1. Not every member of the population has an equal chance of being selected.\n",
        "2. The selection process is not based on chance, but rather on convenience, expertise, or other factors.\n",
        "3. The sample may not be representative of the population, as certain groups or individuals may be overrepresented or underrepresented.\n",
        "4. Bias may be present, as the selection process can be influenced by personal opinions or biases."
      ],
      "metadata": {
        "id": "68QoRp2AqnPC"
      }
    },
    {
      "cell_type": "markdown",
      "source": [
        "##Q8. Define and give examples of qualitative and quantitative data."
      ],
      "metadata": {
        "id": "TuGRh7_2Px2L"
      }
    },
    {
      "cell_type": "markdown",
      "source": [
        "##ANS 8.\n",
        "\n",
        "###**Qualitative Data:**\n",
        "\n",
        "Qualitative data refers to information that is descriptive, subjective, and non-numerical in nature. It is typically collected through methods such as observations, interviews, focus groups, and text analysis.\n",
        "\n",
        "**Examples:**\n",
        "\n",
        "1. Text responses to a survey: \"What do you think about the new product?\"\n",
        "2. Interview transcripts: \"Can you tell me about your experience with the company?\"\n",
        "3. Social media posts: \"I love the new restaurant in town!\"\n",
        "\n",
        "###**Quantitative Data:**\n",
        "\n",
        "Quantitative data refers to information that is numerical, objective, and measurable in nature. It is typically collected through methods such as surveys, experiments, and observations.\n",
        "\n",
        "**Examples:**\n",
        "\n",
        "1. Age: 25, 32, 41\n",
        "2. Height: 165 cm, 175 cm, 185 cm\n",
        "3. Survey ratings: 1-5 scale, where 1 is \"strongly disagree\" and 5 is \"strongly agree\"\n",
        "5. Test scores: 80%, 90%, 95%\n",
        "7. Salary: ₹100000, ₹290000, ₹3200000"
      ],
      "metadata": {
        "id": "hcwRfdfmteYn"
      }
    },
    {
      "cell_type": "markdown",
      "source": [
        "##Q9. What are the different types of data in statistics?"
      ],
      "metadata": {
        "id": "6pnhPzLiP4NM"
      }
    },
    {
      "cell_type": "markdown",
      "source": [
        "##ANS 9.\n",
        "\n",
        "In statistics, data can be classified into several types based on its characteristics, measurement scales, and levels of precision. Here are the main types of data:\n",
        "\n",
        "**1. Quantitative Data:**\n",
        "Quantitative data is numerical in nature and can be measured or counted.\n",
        "\n",
        "**2. Qualitative Data:**\n",
        "Qualitative data is non-numerical in nature and represents categories, labels, or descriptions.\n",
        "\n",
        "**3. Categorical Data:**\n",
        "Categorical data is a type of qualitative data that represents categories or groups."
      ],
      "metadata": {
        "id": "kRZyl2bowYPM"
      }
    },
    {
      "cell_type": "markdown",
      "source": [
        "##Q10. Explain nominal, ordinal, interval, and ratio levels of measurement."
      ],
      "metadata": {
        "id": "SZfJNXJJP7b0"
      }
    },
    {
      "cell_type": "markdown",
      "source": [
        "##ANS 10.\n",
        "\n",
        "###**1. Nominal Level of Measurement:**\n",
        "Nominal level of measurement is the most basic level of measurement. It involves categorizing or labeling variables without any quantitative value or order.\n",
        "\n",
        "**Characteristics:**\n",
        "- No inherent order or ranking\n",
        "- Categories are mutually exclusive\n",
        "- No quantitative value\n",
        "\n",
        "**Examples:**\n",
        "- Colors (red, blue, green)\n",
        "- Names (Runa, Sadiqua, Sneha)\n",
        "- Categories (male, female, other)\n",
        "\n",
        "###**2. Ordinal Level of Measurement:**\n",
        "Ordinal level of measurement involves categorizing or ranking variables in a specific order, but the differences between categories are not equal.\n",
        "\n",
        "**Characteristics:**\n",
        "- Categories have a natural order or ranking\n",
        "- Differences between categories are not equal\n",
        "- No true zero point (or starting point)\n",
        "\n",
        "**Examples:**\n",
        "- Levels of satisfaction (very dissatisfied, dissatisfied, neutral, satisfied, very satisfied)\n",
        "- Educational levels (high school, bachelor's, master's, Ph.D.)\n",
        "- Military ranks (private, corporal, sergeant, captain)\n",
        "\n",
        "###**3. Interval Level of Measurement:**\n",
        "Interval level of measurement involves measuring variables on a continuous scale with equal intervals between consecutive levels.\n",
        "\n",
        "**Characteristics:**\n",
        "- Equal intervals between consecutive levels\n",
        "- No true zero point (or starting point)\n",
        "- Can perform arithmetic operations (+, -, x, /)\n",
        "\n",
        "**Examples:**\n",
        "- Temperature (Celsius or Fahrenheit)\n",
        "- IQ scores\n",
        "- Years of education\n",
        "\n",
        "###**4. Ratio Level of Measurement:**\n",
        "Ratio level of measurement involves measuring variables on a continuous scale with equal intervals between consecutive levels and a true zero point.\n",
        "\n",
        "**Characteristics:**\n",
        "- Equal intervals between consecutive levels\n",
        "- True zero point (or starting point)\n",
        "- Can perform arithmetic operations (+, -, *, /)\n",
        "\n",
        "**Examples:**\n",
        "- Weight\n",
        "- Height\n",
        "- Age"
      ],
      "metadata": {
        "id": "P2Gqyr5x6JOt"
      }
    },
    {
      "cell_type": "markdown",
      "source": [
        "##Q11. What is the measure of central tendency?"
      ],
      "metadata": {
        "id": "VBrCeMjPP_sE"
      }
    },
    {
      "cell_type": "markdown",
      "source": [
        "##ANS 11.\n",
        "\n",
        "The **measure of central tendency** is a statistical measure that describes the middle or typical value of a dataset or distribution. It aims to provide a single value that represents the entire dataset.\n",
        "\n",
        "There are three measures of central tendency:\n",
        "1. Mean\n",
        "2. Median\n",
        "3. Mode"
      ],
      "metadata": {
        "id": "e__8KpcZ_FxS"
      }
    },
    {
      "cell_type": "markdown",
      "source": [
        "##Q12. Define mean, median, and mode."
      ],
      "metadata": {
        "id": "QO5ZI4rxQEeV"
      }
    },
    {
      "cell_type": "markdown",
      "source": [
        "##ANS 12.\n",
        "\n",
        "**1. Mean:** Mean is defined as the average value of the dataset, calculated by summing all the values and dividing it by the total number of values.  \n",
        "Formula for mean :\n",
        "- For population: $\\mu = \\frac{\\sum x_i}{N}$\n",
        "- For sample: $\\overline{x} = \\frac{\\sum x_i}{n}$\n",
        "\n",
        "**2. Median:** The middle value of the dataset when it is sorted in order is defined aas median. If there are an even number of values, the median is the average of the two middle values.\n",
        "Formula for median :\n",
        "- If count($n$) is odd, $Median = (\\frac{n+1}{2})^{th -term}$\n",
        "\n",
        "- If count($n$) is even, $Median = \\frac{(\\frac{n}{2})^{th -term} + (\\frac{n}{2} + 1)^{th-term}}{2}$\n",
        "\n",
        "**3. Mode:** The most frequently occurring value in the dataset is termed as mode. A dataset can have multiple modes if there are multiple values that appear with the same frequency.\n"
      ],
      "metadata": {
        "id": "JYbZDO4A_isd"
      }
    },
    {
      "cell_type": "markdown",
      "source": [
        "##Q13. What is the significance of the measure of central tendency?"
      ],
      "metadata": {
        "id": "MyQ_Ueu5QInV"
      }
    },
    {
      "cell_type": "markdown",
      "source": [
        "##ANS 13.\n",
        "\n",
        "\n",
        "The measure of central tendency is significant because it:\n",
        "\n",
        "1. Simplifies complex data\n",
        "2. Enables comparison between datasets\n",
        "3. Helps in decision-making\n",
        "4. Facilitates communication\n",
        "5. Serves as a foundation for further analysis\n",
        "\n",
        "Real-world applications include:\n",
        "\n",
        "1. Business (average sales, customer satisfaction)\n",
        "2. Economics (inflation rates, GDP growth)\n",
        "3. Social sciences (average income, education levels)\n",
        "4. Medicine (average blood pressure, treatment outcomes)\n",
        "\n",
        "Measures of central tendency provide a powerful tool for summarizing and communicating complex data insights."
      ],
      "metadata": {
        "id": "qMa4_2-ODXtZ"
      }
    },
    {
      "cell_type": "markdown",
      "source": [
        "##Q14. What is variance, and how is it calculated?"
      ],
      "metadata": {
        "id": "gin3GmYKQNSu"
      }
    },
    {
      "cell_type": "markdown",
      "source": [
        "##ANS 14.\n",
        "\n",
        "Variance is a measure of the spread or dispersion of a set of data from its mean value. It represents how much the individual data points deviate from the average value.\n",
        "\n",
        "**Calculation:**\n",
        "\n",
        "The variance is calculated using the following formula:\n",
        "\n",
        "For population, $\\sigma^2 = \\frac{(x_i - \\mu)^2}{N}$\n",
        "\n",
        "For sample, $S^2 = \\frac{(x_i - \\overline{x})^2}{n - 1}$\n",
        "\n",
        "where,\n",
        "\n",
        "- $\\sigma^2$ = variance of population\n",
        "- $x_i$ = individual data points\n",
        "- $\\mu$ = mean of the population data\n",
        "- $N$ = number of data points in population\n",
        "- $S^2$ = variance of sample\n",
        "- $\\overline{x}$ = mean of the sample data\n",
        "- $n$ = number of data points in sample\n",
        "\n",
        "**Step-by-Step Process:**\n",
        "\n",
        "1. Calculate the mean ($\\mu$ or $\\overline{x}$) of the data.\n",
        "2. Subtract the mean from each data point ($x_i - \\mu$ or $x_i - \\overline{x}$).\n",
        "3. Square each result ($(x_i - \\mu)^2$ or $(x_i - \\overline{x})^2$).\n",
        "4. Sum up the squared results ($\\sum(x_i - \\mu)^2$ or $\\sum(x_i - \\overline{x})^2$).\n",
        "5. Divide the sum by the number of data points ($N$) for population data and by number of data points minus one ($n - 1$) for sample data."
      ],
      "metadata": {
        "id": "34c4EMZoGJEe"
      }
    },
    {
      "cell_type": "markdown",
      "source": [
        "##Q15. What is standard deviation, and why is it important?"
      ],
      "metadata": {
        "id": "oMZYA1dCQSA_"
      }
    },
    {
      "cell_type": "markdown",
      "source": [
        "##ANS 15.\n",
        "\n",
        "\n",
        "Standard deviation (SD) is a measure of the amount of variation or dispersion of a set of values from the mean value. It represents how spread out the values are from the average.\n",
        "\n",
        "**Calculation:**\n",
        "\n",
        "Standard deviation is calculated as the square root of the variance:\n",
        "\n",
        "For population, $\\sigma = \\sqrt(\\frac{(x_i - \\mu)^2}{N})$  \n",
        "\n",
        "For sample, $S = \\sqrt(\\frac{(x_i - \\overline{x})^2}{n - 1})$\n",
        "\n",
        "Where:\n",
        "\n",
        "- $\\sigma$ = standard deviation of population\n",
        "- $x_i$ = individual data points\n",
        "- $\\mu$ = mean of the population data\n",
        "- $N$ = number of data points in population\n",
        "- $S$ = standard deviation of sample\n",
        "- $\\overline{x}$ = mean of the sample data\n",
        "- $n$ = number of data points in sample\n",
        "\n",
        "\n",
        "Standard deviation(SD) is important because:\n",
        "\n",
        "1. Measures volatility: SD helps assess the risk or uncertainty associated with a dataset.\n",
        "2. Compares datasets: SD enables comparison of the spread of different datasets.\n",
        "3. Predicts future performance: SD can be used to estimate the range of future values.\n",
        "4. Identifies outliers: SD helps detect data points that are significantly different from the mean.\n",
        "5. Used in statistical analysis: SD is a fundamental component of many statistical tests and models.\n",
        "\n",
        "\n",
        "\n",
        "\n",
        "\n",
        "\n",
        "\n",
        "\n",
        "\n",
        "\n",
        "\n",
        "\n",
        "\n",
        "\n",
        "\n",
        "\n",
        "\n",
        "\n",
        "\n",
        "\n",
        "\n",
        "\n",
        "\n",
        "\n",
        "\n",
        "\n",
        "\n",
        "\n",
        "\n",
        "\n",
        "\n",
        "\n",
        "\n",
        "\n"
      ],
      "metadata": {
        "id": "D5gounTvU_Jd"
      }
    },
    {
      "cell_type": "markdown",
      "source": [
        "##Q16. Define and explain the term range in statistics."
      ],
      "metadata": {
        "id": "uxDAY1C1QV2v"
      }
    },
    {
      "cell_type": "markdown",
      "source": [
        "##ANS 16.\n",
        "\n",
        "In statistics, the range is the difference between the largest and smallest values in a dataset. It is a measure of dispersion, which describes how spread out the values are.\n",
        "\n",
        "**Formula:**\n",
        "\n",
        "$Range =$ $Maximum$ $value$ $-$ $Minimum$ $value$\n",
        "\n",
        "**Example:**  \n",
        "Suppose we have the following dataset:  \n",
        "2, 4, 6, 8, 10  \n",
        "Maximum value = 10  \n",
        "Minimum value = 2  \n",
        "Range = 10 - 2 = 8  \n",
        "The range of the dataset is 8.\n",
        "\n",
        "**Interpretation:**  \n",
        "The range provides a simple and intuitive measure of the spread of a dataset. A large range indicates that the values are widely dispersed, while a small range indicates that the values are closely clustered."
      ],
      "metadata": {
        "id": "TQ0OM0gecl9N"
      }
    },
    {
      "cell_type": "markdown",
      "source": [
        "##Q17. What is the difference between variance and standard deviation?"
      ],
      "metadata": {
        "id": "lCh-A-8bQbFQ"
      }
    },
    {
      "cell_type": "markdown",
      "source": [
        "##ANS 17.\n",
        "\n",
        "Variance and standard deviation are two related but distinct measures of dispersion in statistics.\n",
        "\n",
        "**Variance :**\n",
        "- Measures the average of the squared differences between each data point and the mean\n",
        "- Calculated as the sum of squared differences divided by the number of data points minus one\n",
        "- Units are squared (e.g., meters squared)\n",
        "\n",
        "**Standard Deviation :**\n",
        "- Measures the square root of the variance\n",
        "- Represents the typical distance between each data point and the mean\n",
        "- Units are the same as the data (e.g., meters)\n",
        "\n",
        "**Key difference:**\n",
        "- **Interpretation**: Variance represents the average squared difference, while standard deviation represents the typical distance from the mean."
      ],
      "metadata": {
        "id": "uLaksRllgAFl"
      }
    },
    {
      "cell_type": "markdown",
      "source": [
        "##Q18. What is skewness in a dataset?"
      ],
      "metadata": {
        "id": "wzmXLqtUQf1Y"
      }
    },
    {
      "cell_type": "markdown",
      "source": [
        "##ANS 18.\n",
        "\n",
        "**Skewness** is a **measure of the asymmetry** of a dataset's distribution. It describes how the data deviates from a perfectly symmetrical distribution, such as the normal distribution.\n",
        "\n",
        "**Types of Skewness:**\n",
        "\n",
        "1. **Positive Skewness:** The tail on the right side of the distribution is longer or fatter than the left side. This indicates that there are more extreme values on the higher end of the data.\n",
        "\n",
        "2. **Negative Skewness:** The tail on the left side of the distribution is longer or fatter than the right side. This indicates that there are more extreme values on the lower end of the data.\n",
        "\n",
        "3. **Zero Skewness:** The distribution is symmetrical, with equal tails on both sides."
      ],
      "metadata": {
        "id": "IydWZzUfhz4K"
      }
    },
    {
      "cell_type": "markdown",
      "source": [
        "##Q19. What does it mean if a dataset is positively or negatively skewed?"
      ],
      "metadata": {
        "id": "dcN_rXciQoPS"
      }
    },
    {
      "cell_type": "markdown",
      "source": [
        "##ANS 19.\n",
        "\n",
        "If a dataset is positively or negatively skewed, it means that the data distribution is asymmetric. Here's what it implies:\n",
        "\n",
        "**Positively Skewed:**\n",
        "- More extreme values on the higher end: The tail on the right side of the distribution is longer or fatter.\n",
        "\n",
        "- Most data points are concentrated on the lower end: The majority of the data is clustered on the left side of the distribution.\n",
        "- Outliers are more likely to be on the higher end: Extreme values are more likely to occur on the higher end of the distribution.\n",
        "\n",
        "**Negatively Skewed:**\n",
        "- More extreme values on the lower end: The tail on the left side of the distribution is longer or fatter.\n",
        "\n",
        "- Most data points are concentrated on the higher end: The majority of the data is clustered on the right side of the distribution.\n",
        "- Outliers are more likely to be on the lower end: Extreme values are more likely to occur on the lower end of the distribution.\n",
        "\n",
        "**Real-World Examples:**\n",
        "- Income distribution: A positively skewed distribution might indicate that most people have lower incomes, while a few individuals have very high incomes.\n",
        "\n",
        "- Test scores: A negatively skewed distribution might indicate that most students scored high on a test, while a few students scored very low."
      ],
      "metadata": {
        "id": "YueDGJyqlGpa"
      }
    },
    {
      "cell_type": "markdown",
      "source": [
        "##Q20. Define and explain kurtosis."
      ],
      "metadata": {
        "id": "32b-Bm-oQsMz"
      }
    },
    {
      "cell_type": "markdown",
      "source": [
        "##ANS 20.\n",
        "\n",
        "**Kurtosis** is a statistical measure that describes the shape of a distribution, specifically its \"tailedness\" or \"peakedness\". It measures how outlier-prone or heavy-tailed a distribution is.  \n",
        "\n",
        "Two distributions may have the same average, dispersion and skewness, but in one, there will be high concentration of values near mode showing a sharper peak in the frequency curve than the other. This characteristic of the distribution is called **kurtosis**.\n",
        "\n",
        "\n",
        "**Calculation:**\n",
        "Kurtosis is typically calculated using the following formula:\n",
        "\n",
        "$Kurtosis = \\frac{\\sum(x_i - \\overline{x})^4}{n \\sigma^4} - 3$\n",
        "\n",
        "where,  \n",
        "- $x_i$ = individual data points\n",
        "- $\\overline{x}$ = mean\n",
        "- $n$ = number of data points\n",
        "- $\\sigma$ = standard deviation\n",
        "\n",
        "**Types of Kurtosis:**\n",
        "\n",
        "1. **Platykurtic**: Distributions with a low peak and light tails, indicating a lower probability of extreme values.\n",
        "2. **Mesokurtic**: Distributions with a moderate peak and tails, similar to the normal distribution. Kurtosis = 0 for this case. Example is normal distribution.\n",
        "3. **Leptokurtic**: Distributions with a high peak and heavy tails, indicating a higher probability of extreme values.\n",
        "\n",
        "**Interpretation:**\n",
        "Kurtosis helps identify:\n",
        "\n",
        "1. *Outlier risk*: High kurtosis indicates a higher risk of extreme values.\n",
        "2. *Distribution shape*: Kurtosis distinguishes between normal, leptokurtic, and platykurtic distributions.\n",
        "3. *Data spread*: Kurtosis affects the spread of the data, with high kurtosis indicating a wider spread."
      ],
      "metadata": {
        "id": "c54x-cvMp2ie"
      }
    },
    {
      "cell_type": "markdown",
      "source": [
        "##Q21. What is the purpose of covariance?"
      ],
      "metadata": {
        "id": "89DiYbtgQvsK"
      }
    },
    {
      "cell_type": "markdown",
      "source": [
        "##ANS 21.\n",
        "\n",
        "**Covariance** is a statistical measure used to determine the linear relationship between two random variables. It indicates the direction of the linear relationship between the variables — whether they tend to increase or decrease together.\n",
        "\n",
        "###**Purpose of Covariance:**\n",
        "\n",
        "1. **Quantify correlation:** Covariance indicates the strength and direction of the linear relationship between two variables.\n",
        "\n",
        "2. **Analyze relationships:** Covariance helps identify whether variables tend to increase or decrease together.\n",
        "\n",
        "3. **Predictive modeling:** Covariance is used in predictive models, such as linear regression, to estimate the relationship between variables.\n",
        "\n",
        "4. **Risk analysis:** Covariance is used in finance to analyze the risk associated with investments and portfolios.\n",
        "\n",
        "5. **Foundation for Correlation:** Covariance is the basis for calculating the correlation coefficient.\n",
        "\n",
        "### **Example:**\n",
        "Imagine we track the number of hours studied and the exam scores for a group of students.  \n",
        "Hours studied : 2, 4, 6  \n",
        "Exam scores : 50, 60, 70  \n",
        "The covariance between hours studied and exam scores will be positive, meaning that as the number of hours studied increases, the exam scores also tend to increase. This shows a positive relationship between the two variables.  \n",
        "In this case, the covariance would help quantify how much the exam scores change as the study hours change."
      ],
      "metadata": {
        "id": "AjuVYI2wv1eb"
      }
    },
    {
      "cell_type": "markdown",
      "source": [
        "##Q22. What does correlation measure in statistics?"
      ],
      "metadata": {
        "id": "LI6gIvf4QzgD"
      }
    },
    {
      "cell_type": "markdown",
      "source": [
        "##ANS 22.\n",
        "\n",
        "Correlation measures the strength and direction of the linear relationship between two continuous variables. It indicates how closely the variables move together.  \n",
        "\n",
        "1. **Strength:** Correlation measures the strength of the relationship, ranging from -1 to 1 .\n",
        "\n",
        "2. **Direction:** Correlation indicates the direction of the relationship, with positive values indicating an increase in one variable when the other increases, and negative values indicating a decrease.  \n",
        "\n",
        "\n",
        "The correlation coefficient, usually denoted as $r$, ranges from -1 to 1:  \n",
        "- +1 indicates a perfect positive linear relationship: as one variable increases, the other increases proportionally.\n",
        "- -1 indicates a perfect negative linear relationship: as one variable increases, the other decreases proportionally.\n",
        "- 0 indicates no linear relationship: changes in one variable do not predict changes in the other.\n",
        "\n",
        "- The closer the correlation is to 1 or -1, the stronger the relationship.\n",
        "\n",
        "###**Example:**   \n",
        "If we're measuring the relationship between temperature and ice cream sales, a positive correlation would suggest that as temperature rises, ice cream sales tend to increase."
      ],
      "metadata": {
        "id": "3wX7y7d-yIPj"
      }
    },
    {
      "cell_type": "markdown",
      "source": [
        "##Q23. What is the difference between covariance and correlation?"
      ],
      "metadata": {
        "id": "5oBHOr6eQ5ob"
      }
    },
    {
      "cell_type": "markdown",
      "source": [
        "##ANS 23.\n",
        "\n",
        "Covariance and correlation are two related but distinct statistical concepts:\n",
        "\n",
        "**Covariance:**\n",
        "- Measures the linear relationship between two variables\n",
        "- Quantifies how much the variables tend to increase or decrease together\n",
        "- Units are in the product of the units of the two variables\n",
        "\n",
        "**Correlation:**\n",
        "- Measures the strength and direction of the linear relationship between two variables\n",
        "- Standardized covariance, scaled to be between -1 and 1\n",
        "- Units are dimensionless\n",
        "\n",
        "###**Example:**  \n",
        "**Covariance:** If two variables, say height and weight, have a covariance of 50, we know that as height increases, weight tends to increase as well. But the number \"50\" doesn't give us a clear sense of how strong this relationship is on a scale we can easily interpret.\n",
        "\n",
        "**Correlation:** If the correlation between height and weight is 0.9, we understand that there is a very strong positive linear relationship, regardless of the units of height or weight."
      ],
      "metadata": {
        "id": "SY87InLmz6Nx"
      }
    },
    {
      "cell_type": "markdown",
      "source": [
        "##Q24.  What are some real-world applications of statistics?"
      ],
      "metadata": {
        "id": "615ZUGJJQ9N0"
      }
    },
    {
      "cell_type": "markdown",
      "source": [
        "##ANS 24.  \n",
        "\n",
        "Statistics has numerous real-world applications across various fields, including:\n",
        "\n",
        "1. **Healthcare and Medicine**: Analyzing disease spread, clinical trials, and treatment effectiveness.\n",
        "\n",
        "2. **Business and Economics**: Market research, financial analysis, and quality control.\n",
        "\n",
        "3. **Sports**: Performance analysis, strategy optimization, and predictive analytics.\n",
        "\n",
        "4. **Social Sciences**: Survey analysis and political polling.\n",
        "\n",
        "5. **Government and Public Policy**: Analyzing census data, crime patterns, and resource allocation.\n",
        "\n",
        "6. **Education**: Analyzing student performance and school system evaluations.\n",
        "\n",
        "7. **Environmental Studies**: Climate change models and pollution tracking.\n",
        "\n",
        "8. **Technology and Machine Learning**: Data analysis and machine learning models.\n",
        "\n",
        "9. **Agriculture**: Predicting crop yields and optimizing logistics.\n",
        "\n",
        "10. **Transportation and Logistics**: Traffic prediction and delivery route optimization.\n",
        "\n",
        "11. **Insurance**: Risk assessment and claims prediction.\n",
        "\n",
        "12. **Entertainment**: Analyzing movie performance and content recommendations."
      ],
      "metadata": {
        "id": "aVzx5rCR2DmJ"
      }
    },
    {
      "cell_type": "markdown",
      "source": [
        "# **PRACTICAL QUESTIONS**"
      ],
      "metadata": {
        "id": "haPNSP944QBo"
      }
    },
    {
      "cell_type": "markdown",
      "source": [
        "##Q1. How do you calculate the mean, median, and mode of a dataset?"
      ],
      "metadata": {
        "id": "1HTLcDC14XKn"
      }
    },
    {
      "cell_type": "code",
      "source": [
        "import numpy as np\n",
        "import statistics\n",
        "\n",
        "#creating a dataset\n",
        "weight_in_kg = [46, 72, 100, 39, 45, 42, 42, 81, 67, 67, 65, 46, 55, 46, 58, 98, 46]\n",
        "\n",
        "#printing mean, median, and mode\n",
        "print(f\"The mean weight is {np.mean(weight_in_kg)} Kg.\")\n",
        "print(f\"The median weight is {np.median(weight_in_kg)} Kg.\")\n",
        "print(f\"The mode weight is {statistics.mode(weight_in_kg)} Kg.\")"
      ],
      "metadata": {
        "colab": {
          "base_uri": "https://localhost:8080/"
        },
        "id": "zRx7p-Wg5I-v",
        "outputId": "b11427b3-31a0-440d-96da-84c8b4c35266"
      },
      "execution_count": 101,
      "outputs": [
        {
          "output_type": "stream",
          "name": "stdout",
          "text": [
            "The mean weight is 59.705882352941174 Kg.\n",
            "The median weight is 55.0 Kg.\n",
            "The mode weight is 46 Kg.\n"
          ]
        }
      ]
    },
    {
      "cell_type": "markdown",
      "source": [
        "##Q2. Write a Python program to compute the variance and standard deviation of a dataset."
      ],
      "metadata": {
        "id": "_8629qG85EXm"
      }
    },
    {
      "cell_type": "code",
      "source": [
        "import numpy as np\n",
        "import statistics\n",
        "\n",
        "#creating a dataset\n",
        "weight_in_kg = [46, 72, 100, 39, 45, 42, 42, 81, 67, 67, 65, 46, 55, 46, 58, 98, 46]\n",
        "\n",
        "#printing variance and standard deviation\n",
        "print(f\"The population variance in weight is {statistics.pvariance(weight_in_kg)} Kg.\")\n",
        "print(f\"The sample variance in weight is {statistics.variance(weight_in_kg)} Kg.\")\n",
        "print(f\"The population standard deviation in weight is {statistics.pstdev(weight_in_kg)} Kg.\")\n",
        "print(f\"The sample standard deviation in weight is {statistics.stdev(weight_in_kg)} Kg.\")"
      ],
      "metadata": {
        "colab": {
          "base_uri": "https://localhost:8080/"
        },
        "id": "Fgh3aETw8KXP",
        "outputId": "c6f4b87f-a8bc-40f5-c8e1-7544b20504fb"
      },
      "execution_count": 102,
      "outputs": [
        {
          "output_type": "stream",
          "name": "stdout",
          "text": [
            "The population variance in weight is 345.7370242214533 Kg.\n",
            "The sample variance in weight is 367.34558823529414 Kg.\n",
            "The population standard deviation in weight is 18.59400506134849 Kg.\n",
            "The sample standard deviation in weight is 19.166261717802303 Kg.\n"
          ]
        }
      ]
    },
    {
      "cell_type": "markdown",
      "source": [
        "##Q3. Create a dataset and classify it into nominal, ordinal, interval, and ratio types."
      ],
      "metadata": {
        "id": "JOUqVvKD5M1W"
      }
    },
    {
      "cell_type": "code",
      "source": [
        "import pandas as pd\n",
        "\n",
        "#creating a dataset\n",
        "data = {\"Color\": [\"Red\", \"Blue\", \"Green\", \"Red\", \"Blue\"], \"Size\": [\"Small\", \"Medium\", \"Large\", \"Small\", \"Medium\"], \"Temperature\": [25, 30, 35, 25, 30], \"Height\": [160, 170, 180, 160, 170]}\n",
        "\n",
        "#converting the dataset into DataFrame\n",
        "df = pd.DataFrame(data)\n",
        "\n",
        "#printing the dataset\n",
        "print(\"Dataset:\")\n",
        "print(df)\n",
        "\n",
        "#classifying the variables\n",
        "print(\"\\nVariable Classification:\")\n",
        "print(\"Color: Nominal\")\n",
        "print(\"Size: Ordinal\")\n",
        "print(\"Temperature: Interval\")\n",
        "print(\"Height: Ratio\")\n"
      ],
      "metadata": {
        "colab": {
          "base_uri": "https://localhost:8080/"
        },
        "id": "CNCbRMtv918z",
        "outputId": "55dcd2bf-5594-44f7-c951-3e1b0ec51595"
      },
      "execution_count": 103,
      "outputs": [
        {
          "output_type": "stream",
          "name": "stdout",
          "text": [
            "Dataset:\n",
            "   Color    Size  Temperature  Height\n",
            "0    Red   Small           25     160\n",
            "1   Blue  Medium           30     170\n",
            "2  Green   Large           35     180\n",
            "3    Red   Small           25     160\n",
            "4   Blue  Medium           30     170\n",
            "\n",
            "Variable Classification:\n",
            "Color: Nominal\n",
            "Size: Ordinal\n",
            "Temperature: Interval\n",
            "Height: Ratio\n"
          ]
        }
      ]
    },
    {
      "cell_type": "markdown",
      "source": [
        "##Q4. Implement sampling techniques like random sampling and stratified sampling."
      ],
      "metadata": {
        "id": "4gUBh3uX5VIX"
      }
    },
    {
      "cell_type": "code",
      "source": [
        "import pandas as pd\n",
        "import numpy as np\n",
        "import matplotlib.pyplot as plt\n",
        "\n",
        "# Create a simple dataset\n",
        "np.random.seed(42)\n",
        "\n",
        "n = 200\n",
        "categories = ['A', 'B', 'C']\n",
        "data = {'Age': np.random.randint(18, 60, size=n), 'Income': np.random.randint(30000, 100000, size=n), 'Category': np.random.choice(categories, size=n, p=[0.3, 0.5, 0.2])}\n",
        "\n",
        "df = pd.DataFrame(data)\n",
        "\n",
        "#random Sampling: Randomly select 20 samples from the entire dataset\n",
        "random_sample = df.sample(n=20, random_state=42)\n",
        "\n",
        "#stratified Sampling: Sample 10% from each category to maintain category distribution\n",
        "stratified_sample = df.groupby('Category', group_keys=False).sample(frac=0.1, random_state=42)\n",
        "\n",
        "#displaying the first few rows of both samples\n",
        "print(\"Random Sample (first 10 entries):\")\n",
        "print(random_sample.head(10))\n",
        "\n",
        "print(\"\\nStratified Sample (first 10 entries):\")\n",
        "print(stratified_sample.head(10))"
      ],
      "metadata": {
        "colab": {
          "base_uri": "https://localhost:8080/"
        },
        "id": "nyzczv1h97H8",
        "outputId": "de2584c8-3789-462d-a4bb-f9db6f65fd9d"
      },
      "execution_count": 127,
      "outputs": [
        {
          "output_type": "stream",
          "name": "stdout",
          "text": [
            "Random Sample (first 10 entries):\n",
            "     Age  Income Category\n",
            "95    59   63828        A\n",
            "15    39   41411        B\n",
            "30    32   46371        B\n",
            "158   18   55945        C\n",
            "128   59   40647        B\n",
            "115   54   48070        B\n",
            "69    40   70818        A\n",
            "170   59   75543        B\n",
            "174   49   83222        B\n",
            "45    45   42183        C\n",
            "\n",
            "Stratified Sample (first 10 entries):\n",
            "     Age  Income Category\n",
            "12    57   32811        A\n",
            "29    33   76843        A\n",
            "141   30   86661        A\n",
            "57    21   76975        A\n",
            "165   25   46896        A\n",
            "190   18   65247        A\n",
            "28    45   46646        B\n",
            "185   45   74078        B\n",
            "182   34   91389        B\n",
            "174   49   83222        B\n"
          ]
        }
      ]
    },
    {
      "cell_type": "markdown",
      "source": [
        "##Q5. Write a Python function to calculate the range of a dataset."
      ],
      "metadata": {
        "id": "OMl2kx_p5bkw"
      }
    },
    {
      "cell_type": "code",
      "source": [
        "import numpy as np\n",
        "import statistics\n",
        "\n",
        "#creating a dataset\n",
        "weight_in_kg = [46, 72, 100, 39, 45, 42, 42, 81, 67, 67, 65, 46, 55, 46, 58, 98, 46]\n",
        "\n",
        "#printing the range\n",
        "print(f\"The range of weights is {max(weight_in_kg)-min(weight_in_kg)} Kg.\")"
      ],
      "metadata": {
        "colab": {
          "base_uri": "https://localhost:8080/"
        },
        "id": "jVtNgZROAMyb",
        "outputId": "65ef2f4d-e674-4c60-d5a7-80829a0f1f8b"
      },
      "execution_count": 105,
      "outputs": [
        {
          "output_type": "stream",
          "name": "stdout",
          "text": [
            "The range of weights is 61 Kg.\n"
          ]
        }
      ]
    },
    {
      "cell_type": "markdown",
      "source": [
        "##Q6. Create a dataset and plot its histogram to visualize skewness."
      ],
      "metadata": {
        "id": "2QXtdQe05gEQ"
      }
    },
    {
      "cell_type": "code",
      "source": [
        "import numpy as np\n",
        "import matplotlib.pyplot as plt\n",
        "\n",
        "#creating a skewed dataset\n",
        "data = np.random.exponential(scale=2, size=100)\n",
        "\n",
        "#plotting histogram\n",
        "plt.hist(data, bins=30, alpha=0.9, color='green', edgecolor='black')\n",
        "plt.title('Skewed Data')\n",
        "plt.show()"
      ],
      "metadata": {
        "colab": {
          "base_uri": "https://localhost:8080/",
          "height": 452
        },
        "id": "UITf-m6CB5YZ",
        "outputId": "f69d20a4-e6b8-41f8-af0b-fa806f9ef304"
      },
      "execution_count": 106,
      "outputs": [
        {
          "output_type": "display_data",
          "data": {
            "text/plain": [
              "<Figure size 640x480 with 1 Axes>"
            ],
            "image/png": "[encoded data removed]"
          },
          "metadata": {}
        }
      ]
    },
    {
      "cell_type": "markdown",
      "source": [
        "##Q7. Calculate skewness and kurtosis of a dataset using Python libraries."
      ],
      "metadata": {
        "id": "psTRa-w95ltZ"
      }
    },
    {
      "cell_type": "code",
      "source": [
        "from scipy.stats import skew\n",
        "from scipy.stats import kurtosis\n",
        "\n",
        "#creating a dataset\n",
        "weight_in_kg = [46, 72, 100, 39, 45, 42, 42, 81, 67, 67, 65, 46, 55, 46, 58, 98, 46]\n",
        "\n",
        "#finding skewness and kurtosis\n",
        "Skewness = skew(weight_in_kg)\n",
        "Kurtosis = kurtosis(weight_in_kg)\n",
        "\n",
        "#printing skewness and kurtosis\n",
        "print(f\"Skewness = {Skewness}\")\n",
        "print(f\"Kurtosis = {Kurtosis}\")"
      ],
      "metadata": {
        "colab": {
          "base_uri": "https://localhost:8080/"
        },
        "id": "eip7x2kiDIoa",
        "outputId": "b94a1d71-0b7d-45b3-fed3-612042a17ec4"
      },
      "execution_count": 107,
      "outputs": [
        {
          "output_type": "stream",
          "name": "stdout",
          "text": [
            "Skewness = 0.9191364117092464\n",
            "Kurtosis = -0.24899146838629083\n"
          ]
        }
      ]
    },
    {
      "cell_type": "markdown",
      "source": [
        "##Q8. Generate a dataset and demonstrate positive and negative skewness."
      ],
      "metadata": {
        "id": "r7q0dtJk5rAZ"
      }
    },
    {
      "cell_type": "code",
      "source": [
        "import numpy as np\n",
        "import matplotlib.pyplot as plt\n",
        "\n",
        "#seed for reproducibility\n",
        "np.random.seed(0)\n",
        "\n",
        "#generating positively skewed data\n",
        "positive_skew_data = np.random.exponential(scale=2, size=1000)\n",
        "\n",
        "#generating negatively skewed data\n",
        "negative_skew_data = -np.random.exponential(scale=2, size=1000)\n",
        "\n",
        "#plotting histograms\n",
        "fig, axes = plt.subplots(1, 2, figsize=(12, 5))\n",
        "\n",
        "axes[0].hist(positive_skew_data, bins=30, alpha=0.7, color='blue', edgecolor='black')\n",
        "axes[0].set_title('Positive Skewness')\n",
        "\n",
        "axes[1].hist(negative_skew_data, bins=30, alpha=0.7, color='red', edgecolor='black')\n",
        "axes[1].set_title('Negative Skewness')\n",
        "\n",
        "plt.show()\n"
      ],
      "metadata": {
        "colab": {
          "base_uri": "https://localhost:8080/",
          "height": 468
        },
        "id": "JUehokC6GEFv",
        "outputId": "cedcc54a-8678-41ba-9b2d-a02c81b234bd"
      },
      "execution_count": 108,
      "outputs": [
        {
          "output_type": "display_data",
          "data": {
            "text/plain": [
              "<Figure size 1200x500 with 2 Axes>"
            ],
            "image/png": "[encoded data removed]"
          },
          "metadata": {}
        }
      ]
    },
    {
      "cell_type": "markdown",
      "source": [
        "##Q9. Write a Python script to calculate covariance between two datasets."
      ],
      "metadata": {
        "id": "unTCTNat5zlz"
      }
    },
    {
      "cell_type": "code",
      "source": [
        "import statistics\n",
        "\n",
        "#creating two  datasets\n",
        "dataset1 = [1, 2, 3, 4, 5]\n",
        "dataset2 = [2, 3, 5, 7, 11]\n",
        "\n",
        "#printing the covariance\n",
        "print(f\"The covariance is {statistics.covariance(dataset1, dataset2)}\")"
      ],
      "metadata": {
        "colab": {
          "base_uri": "https://localhost:8080/"
        },
        "id": "mVzFDr7sHF4H",
        "outputId": "31f60605-e18d-4e23-dc92-60c2c152c1e7"
      },
      "execution_count": 109,
      "outputs": [
        {
          "output_type": "stream",
          "name": "stdout",
          "text": [
            "The covariance is 5.5\n"
          ]
        }
      ]
    },
    {
      "cell_type": "markdown",
      "source": [
        "##Q10. Write a Python script to calculate the correlation coefficient between two datasets."
      ],
      "metadata": {
        "id": "wwnCJPv954Ur"
      }
    },
    {
      "cell_type": "code",
      "source": [
        "import statistics\n",
        "\n",
        "#creating two  datasets\n",
        "dataset1 = [1, 2, 3, 4, 5]\n",
        "dataset2 = [2, 3, 5, 7, 11]\n",
        "\n",
        "#printing the correalation coefficient\n",
        "print(f\"The correlation coefficient is {statistics.correlation(dataset1, dataset2)}\")"
      ],
      "metadata": {
        "colab": {
          "base_uri": "https://localhost:8080/"
        },
        "id": "DB4OpWWBNoNH",
        "outputId": "fb40b5ac-e3f2-4167-bf52-9435c74215b3"
      },
      "execution_count": 110,
      "outputs": [
        {
          "output_type": "stream",
          "name": "stdout",
          "text": [
            "The correlation coefficient is 0.9722718241315028\n"
          ]
        }
      ]
    },
    {
      "cell_type": "markdown",
      "source": [
        "##Q11. Create a scatter plot to visualize the relationship between two variables."
      ],
      "metadata": {
        "id": "DOA3bTKW58mz"
      }
    },
    {
      "cell_type": "code",
      "source": [
        "import matplotlib.pyplot as plt\n",
        "import numpy as np\n",
        "\n",
        "#generating random data\n",
        "x = np.random.rand(500)\n",
        "y = np.random.rand(500)\n",
        "\n",
        "#creating scatter plot\n",
        "plt.scatter(x, y)\n",
        "\n",
        "plt.title('Scatter Plot')\n",
        "plt.xlabel('X')\n",
        "plt.ylabel('Y')\n",
        "\n",
        "plt.show()"
      ],
      "metadata": {
        "colab": {
          "base_uri": "https://localhost:8080/",
          "height": 472
        },
        "id": "nxoUvXXiN9X6",
        "outputId": "61bafbbb-048d-4e4e-ff0c-645d5d5c4498"
      },
      "execution_count": 111,
      "outputs": [
        {
          "output_type": "display_data",
          "data": {
            "text/plain": [
              "<Figure size 640x480 with 1 Axes>"
            ],
            "image/png": "[encoded data removed]"
          },
          "metadata": {}
        }
      ]
    },
    {
      "cell_type": "markdown",
      "source": [
        "##Q12. Implement and compare simple random sampling and systematic sampling."
      ],
      "metadata": {
        "id": "6uIOrS5w6Do8"
      }
    },
    {
      "cell_type": "code",
      "source": [
        "import numpy as np\n",
        "import pandas as pd\n",
        "\n",
        "#creating a population\n",
        "population = np.arange(1, 1001)\n",
        "\n",
        "#simple Random Sampling\n",
        "def simple_random_sampling(population, sample_size):\n",
        "    return np.random.choice(population, size=sample_size, replace=False)\n",
        "\n",
        "#systematic Sampling\n",
        "def systematic_sampling(population, sample_size):\n",
        "    k = len(population) // sample_size  # Interval (k)\n",
        "    start = np.random.randint(0, k)  # Random start point within the first interval\n",
        "    return population[start::k]\n",
        "\n",
        "#sample Size\n",
        "sample_size = 100\n",
        "\n",
        "#perform Simple Random Sampling\n",
        "srs_sample = simple_random_sampling(population, sample_size)\n",
        "\n",
        "#perform Systematic Sampling\n",
        "sys_sample = systematic_sampling(population, sample_size)\n",
        "\n",
        "#printing samples\n",
        "print(\"Simple Random Sampling Sample:\")\n",
        "print(srs_sample[:20])  # Show first 20 items of the SRS sample\n",
        "print(\"\\nSystematic Sampling Sample:\")\n",
        "print(sys_sample[:20])  # Show first 20 items of the Systematic sample\n",
        "\n",
        "# Visualize the population and samples\n",
        "plt.figure(figsize=(12, 4))\n",
        "\n",
        "# Plot the population and the simple random sample\n",
        "plt.subplot(1, 2, 1)\n",
        "plt.scatter(population, np.zeros_like(population), color='blue', alpha=0.5, label='Population')\n",
        "plt.scatter(srs_sample, np.ones_like(srs_sample), color='red', label='Simple Random Sample')\n",
        "plt.title(\"Simple Random Sampling\")\n",
        "plt.legend()\n",
        "\n",
        "# Plot the population and the systematic sample\n",
        "plt.subplot(1, 2, 2)\n",
        "plt.scatter(population, np.zeros_like(population), color='blue', alpha=0.5, label='Population')\n",
        "plt.scatter(sys_sample, np.ones_like(sys_sample), color='green', label='Systematic Sample')\n",
        "plt.title(\"Systematic Sampling\")\n",
        "plt.legend()\n",
        "\n",
        "plt.tight_layout()\n",
        "plt.show()"
      ],
      "metadata": {
        "colab": {
          "base_uri": "https://localhost:8080/",
          "height": 528
        },
        "id": "09wmTcXBQOcQ",
        "outputId": "10b84466-5e0f-4b6b-88ff-39a6d6ee3922"
      },
      "execution_count": 112,
      "outputs": [
        {
          "output_type": "stream",
          "name": "stdout",
          "text": [
            "Simple Random Sampling Sample:\n",
            "[597 931 606 624   2 599 940 291 849 412 555   8 829 556 457 528 983 859\n",
            " 466 481]\n",
            "\n",
            "Systematic Sampling Sample:\n",
            "[  9  19  29  39  49  59  69  79  89  99 109 119 129 139 149 159 169 179\n",
            " 189 199]\n"
          ]
        },
        {
          "output_type": "display_data",
          "data": {
            "text/plain": [
              "<Figure size 1200x400 with 2 Axes>"
            ],
            "image/png": "[encoded data removed]"
          },
          "metadata": {}
        }
      ]
    },
    {
      "cell_type": "markdown",
      "source": [
        "1. **Simple Random Sampling:** The sample is distributed randomly across the entire population.\n",
        "\n",
        "2. **Systematic Sampling:** The sample is spread out systematically with regular intervals. If the population exhibits any cyclical patterns or regularities at intervals matching the sampling step, systematic sampling may introduce bias."
      ],
      "metadata": {
        "id": "Msn1rxbSiL92"
      }
    },
    {
      "cell_type": "markdown",
      "source": [
        "##Q13. Calculate the mean, median, and mode of grouped data."
      ],
      "metadata": {
        "id": "WATtQmoh6KJt"
      }
    },
    {
      "cell_type": "code",
      "source": [
        "import pandas as pd\n",
        "\n",
        "#sample grouped data\n",
        "data = {'Class Interval': ['0-10', '10-20', '20-30', '30-40', '40-50'], 'Frequency': [4, 7, 10, 5, 2]}\n",
        "\n",
        "#dataFrame\n",
        "df = pd.DataFrame(data)\n",
        "\n",
        "#midpoints of each class interval\n",
        "df['Midpoint'] = [(int(x.split('-')[0]) + int(x.split('-')[1])) / 2 for x in df['Class Interval']]\n",
        "\n",
        "#mean\n",
        "df['f * x'] = df['Frequency'] * df['Midpoint']\n",
        "mean = df['f * x'].sum() / df['Frequency'].sum()\n",
        "\n",
        "#median\n",
        "n = df['Frequency'].sum()\n",
        "cumulative_freq = df['Frequency'].cumsum()\n",
        "median_class = df[cumulative_freq >= n / 2].iloc[0]\n",
        "L = int(median_class['Class Interval'].split('-')[0])\n",
        "F = cumulative_freq[cumulative_freq < n / 2].iloc[-1]\n",
        "f = median_class['Frequency']\n",
        "h = int(median_class['Class Interval'].split('-')[1]) - int(median_class['Class Interval'].split('-')[0])\n",
        "\n",
        "median = L + ((n / 2 - F) / f) * h\n",
        "\n",
        "#mode\n",
        "modal_class = df.loc[df['Frequency'].idxmax()]\n",
        "L_mode = int(modal_class['Class Interval'].split('-')[0])\n",
        "f1 = modal_class['Frequency']\n",
        "f0 = df.loc[df['Class Interval'] == df['Class Interval'].iloc[df['Frequency'].idxmax() - 1]]['Frequency'].values[0] if df['Class Interval'].idxmax() > 0 else 0\n",
        "f2 = df.loc[df['Class Interval'] == df['Class Interval'].iloc[df['Frequency'].idxmax() + 1]]['Frequency'].values[0] if df['Class Interval'].idxmax() < len(df) - 1 else 0\n",
        "h_mode = int(modal_class['Class Interval'].split('-')[1]) - int(modal_class['Class Interval'].split('-')[0])\n",
        "\n",
        "mode = L_mode + ((f1 - f0) / (2 * f1 - f0 - f2)) * h_mode\n",
        "\n",
        "#displaying the results\n",
        "print(f\"Mean: {mean}\")\n",
        "print(f\"Median: {median}\")\n",
        "print(f\"Mode: {mode}\")"
      ],
      "metadata": {
        "colab": {
          "base_uri": "https://localhost:8080/"
        },
        "id": "9M4sRhuZQQuJ",
        "outputId": "0a8ddfd9-3123-4e2a-f170-5e81b8f573a5"
      },
      "execution_count": 113,
      "outputs": [
        {
          "output_type": "stream",
          "name": "stdout",
          "text": [
            "Mean: 22.857142857142858\n",
            "Median: 23.0\n",
            "Mode: 22.307692307692307\n"
          ]
        }
      ]
    },
    {
      "cell_type": "markdown",
      "source": [
        "##Q14. Simulate data using Python and calculate its central tendency and dispersion."
      ],
      "metadata": {
        "id": "XwycPzIv6aMg"
      }
    },
    {
      "cell_type": "code",
      "source": [
        "import statistics\n",
        "import numpy as np\n",
        "\n",
        "# Simulate data\n",
        "np.random.seed(0)\n",
        "data = np.random.normal(loc=5, scale=2, size=50)\n",
        "\n",
        "#central tendency\n",
        "mean = np.mean(data)\n",
        "median = np.median(data)\n",
        "mode = statistics.mode(data)\n",
        "\n",
        "#dispersion\n",
        "population_variance = statistics.pvariance(data)\n",
        "sample_variance = statistics.variance(data)\n",
        "population_standard_deviation = statistics.pstdev(data)\n",
        "sample_standard_deviation = statistics.stdev(data)\n",
        "range_ = np.ptp(data)\n",
        "Q1 = (25/100)*(len(data) + 1)\n",
        "Q2 = (50/100)*(len(data) + 1)\n",
        "Q3 = (75/100)*(len(data) + 1)\n",
        "IQR = Q3 - Q1\n",
        "\n",
        "#printing results\n",
        "print(\"Simulated Data: \", data)\n",
        "print(\"\\nCentral Tendency: \")\n",
        "print(\"Mean: \", mean)\n",
        "print(\"Median: \", median)\n",
        "print(\"Mode: \", mode)\n",
        "\n",
        "print(\"\\nDispersion: \")\n",
        "print(\"Population Variance: \",population_variance)\n",
        "print(\"Sample Variance: \", sample_variance)\n",
        "print(\"Population Standard Deviation: \", population_standard_deviation)\n",
        "print(\"Sample Standard Deviation: \", sample_standard_deviation)\n",
        "print(\"Range: \", range_)\n",
        "print(\"Quartile 1: \", Q1)\n",
        "print(\"Quartile 2: \", Q2)\n",
        "print(\"Quartile 3: \", Q3)\n",
        "print(\"Inter Quartile Range: \", IQR)"
      ],
      "metadata": {
        "colab": {
          "base_uri": "https://localhost:8080/"
        },
        "id": "g4rOlCIZ3Gd5",
        "outputId": "45c79ab5-7b19-4433-a7fd-316745e41fbb"
      },
      "execution_count": 114,
      "outputs": [
        {
          "output_type": "stream",
          "name": "stdout",
          "text": [
            "Simulated Data:  [ 8.52810469  5.80031442  6.95747597  9.4817864   8.73511598  3.04544424\n",
            "  6.90017684  4.69728558  4.7935623   5.821197    5.28808714  7.90854701\n",
            "  6.52207545  5.24335003  5.88772647  5.66734865  7.98815815  4.58968347\n",
            "  5.6261354   3.29180852 -0.10597963  6.30723719  6.7288724   3.51566996\n",
            "  9.53950925  2.09126865  5.09151703  4.6256323   8.06555843  7.93871754\n",
            "  5.30989485  5.75632504  3.2244285   1.03840706  4.3041757   5.31269794\n",
            "  7.46058136  7.4047597   4.22534637  4.3953945   2.90289407  2.15996413\n",
            "  1.58745962  8.90155079  3.98069564  4.1238514   2.49440928  6.55498071\n",
            "  1.7722043   4.57451944]\n",
            "\n",
            "Central Tendency: \n",
            "Mean:  5.281118544626195\n",
            "Median:  5.298990996857794\n",
            "Mode:  8.528104691935328\n",
            "\n",
            "Dispersion: \n",
            "Population Variance:  5.067207378777241\n",
            "Sample Variance:  5.170619774262491\n",
            "Population Standard Deviation:  2.251045841109692\n",
            "Sample Standard Deviation:  2.273899684300627\n",
            "Range:  9.645488879643372\n",
            "Quartile 1:  12.75\n",
            "Quartile 2:  25.5\n",
            "Quartile 3:  38.25\n",
            "Inter Quartile Range:  25.5\n"
          ]
        }
      ]
    },
    {
      "cell_type": "markdown",
      "source": [
        "##Q15. Use NumPy or pandas to summarize a dataset's descriptive statistics."
      ],
      "metadata": {
        "id": "EmnDHcYA6fNf"
      }
    },
    {
      "cell_type": "code",
      "source": [
        "# Using NumPy\n",
        "import numpy as np\n",
        "\n",
        "#calculating descriptive statistrics\n",
        "mean = np.mean(data)\n",
        "median = np.median(data)\n",
        "std_dev = np.std(data)\n",
        "variance = np.var(data)\n",
        "minimum = np.min(data)\n",
        "maximum = np.max(data)\n",
        "q1 = np.percentile(data, 25)\n",
        "q2 = np.percentile(data, 50)\n",
        "q3 = np.percentile(data, 75)\n",
        "iqrange = q3 - q1\n",
        "range_value = maximum - minimum\n",
        "\n",
        "#printing descriptive statistics\n",
        "print(\"NumPy Descriptive Statistics:\\n\")\n",
        "print(f\"Mean: {mean}\")\n",
        "print(f\"Median: {median}\")\n",
        "print(f\"Standard Deviation: {std_dev}\")\n",
        "print(f\"Variance: {variance}\")\n",
        "print(f\"Minimum: {minimum}\")\n",
        "print(f\"Maximum: {maximum}\")\n",
        "print(f\"25th Percentile (Q1): {q1}\")\n",
        "print(f\"50th Percentile (Q2): {q2}\")\n",
        "print(f\"75th Percentile (Q3): {q3}\")\n",
        "print(f\"Inter Quartile Range(IQR): {iqrange}\")\n",
        "print(f\"Range: {range_value}\")"
      ],
      "metadata": {
        "colab": {
          "base_uri": "https://localhost:8080/"
        },
        "id": "NAlEmTWN8Mi3",
        "outputId": "37fc6438-e1e0-436d-e9c9-9ba40ffffccd"
      },
      "execution_count": 115,
      "outputs": [
        {
          "output_type": "stream",
          "name": "stdout",
          "text": [
            "NumPy Descriptive Statistics:\n",
            "\n",
            "Mean: 5.281118544626195\n",
            "Median: 5.298990996857794\n",
            "Standard Deviation: 2.251045841109692\n",
            "Variance: 5.067207378777241\n",
            "Minimum: -0.10597963166815738\n",
            "Maximum: 9.539509247975214\n",
            "25th Percentile (Q1): 4.016484576566927\n",
            "50th Percentile (Q2): 5.298990996857794\n",
            "75th Percentile (Q3): 6.8573507257181365\n",
            "Inter Quartile Range(IQR): 2.8408661491512097\n",
            "Range: 9.645488879643372\n"
          ]
        }
      ]
    },
    {
      "cell_type": "markdown",
      "source": [
        "##Q16. Plot a boxplot to understand the spread and identify outliers."
      ],
      "metadata": {
        "id": "KlsAZOSX6m0w"
      }
    },
    {
      "cell_type": "code",
      "source": [
        "import matplotlib.pyplot as plt\n",
        "import seaborn as sns\n",
        "\n",
        "#dataset\n",
        "data = [12, 15, 14, 10, 8, 12, 15, 19, 22, 30, 18, 21, 25, 12, 17, 67, 88, 99]\n",
        "\n",
        "#boxplot using Seaborn\n",
        "plt.figure(figsize=(7, 5))\n",
        "sns.boxplot(data)\n",
        "\n",
        "#plot\n",
        "plt.title(\"Boxplot of the Dataset\")\n",
        "plt.ylabel(\"Values\")\n",
        "plt.show()\n"
      ],
      "metadata": {
        "colab": {
          "base_uri": "https://localhost:8080/",
          "height": 449
        },
        "id": "lIqEiYYE9gfI",
        "outputId": "a8a227ba-39cc-4c9e-d80b-f1e6798419e3"
      },
      "execution_count": 116,
      "outputs": [
        {
          "output_type": "display_data",
          "data": {
            "text/plain": [
              "<Figure size 700x500 with 1 Axes>"
            ],
            "image/png": "[encoded data removed]"
          },
          "metadata": {}
        }
      ]
    },
    {
      "cell_type": "markdown",
      "source": [
        "##Q17. Calculate the interquartile range (IQR) of a dataset."
      ],
      "metadata": {
        "id": "hgkKdsmA6wvD"
      }
    },
    {
      "cell_type": "code",
      "source": [
        "import numpy as np\n",
        "\n",
        "#dataset\n",
        "data = [12, 15, 14, 10, 8, 12, 15, 19, 22, 30, 18, 21, 25, 12, 17, 67, 88, 99]\n",
        "\n",
        "#inter quartile range\n",
        "q_1 = np.percentile(data, 25)\n",
        "q_3 = np.percentile(data, 75)\n",
        "inter_quartile_range = q_3 - q_1\n",
        "\n",
        "#results\n",
        "print(f\"Inter Quartile Range : {inter_quartile_range}\")"
      ],
      "metadata": {
        "colab": {
          "base_uri": "https://localhost:8080/"
        },
        "id": "AXl-sQnF-TnP",
        "outputId": "94a07991-14d1-4e86-9a5a-b72dbf2c96d2"
      },
      "execution_count": 117,
      "outputs": [
        {
          "output_type": "stream",
          "name": "stdout",
          "text": [
            "Inter Quartile Range : 11.75\n"
          ]
        }
      ]
    },
    {
      "cell_type": "markdown",
      "source": [
        "##Q18. Implement Z-score normalization and explain its significance."
      ],
      "metadata": {
        "id": "l-7on1Wi61l6"
      }
    },
    {
      "cell_type": "code",
      "source": [
        "import pandas as pd\n",
        "import matplotlib.pyplot as plt\n",
        "from scipy.stats import zscore\n",
        "\n",
        "#dataset\n",
        "data = { 'Height': [160, 165, 170, 175, 180, 185, 190, 195, 200, 205], 'Weight': [55, 60, 65, 70, 75, 80, 85, 90, 95, 100]}\n",
        "\n",
        "#dataFrame\n",
        "df = pd.DataFrame(data)\n",
        "\n",
        "#Z-scores using the zscore function from scipy\n",
        "df_normalized = df.apply(zscore)\n",
        "\n",
        "#printing the original and normalized data\n",
        "print(\"Original Data:\")\n",
        "print(df)\n",
        "print(\"\\nNormalized Data (Z-Score):\")\n",
        "print(df_normalized)\n",
        "\n",
        "#plotting the original and normalized data\n",
        "plt.figure(figsize=(12, 8))\n",
        "\n",
        "#original data plot\n",
        "plt.subplot(1, 2, 1)\n",
        "plt.scatter(df['Height'], df['Weight'], color='blue', label='Original Data')\n",
        "plt.title('Original Data: Height vs Weight')\n",
        "plt.xlabel('Height')\n",
        "plt.ylabel('Weight')\n",
        "plt.grid(True)\n",
        "\n",
        "#normalized data plot\n",
        "plt.subplot(1, 2, 2)\n",
        "plt.scatter(df_normalized['Height'], df_normalized['Weight'], color='green', label='Normalized Data')\n",
        "plt.title('Normalized Data: Z-Score (Height vs Weight)')\n",
        "plt.xlabel('Normalized Height')\n",
        "plt.ylabel('Normalized Weight')\n",
        "plt.grid(True)\n",
        "\n",
        "plt.tight_layout()\n",
        "plt.show()\n"
      ],
      "metadata": {
        "colab": {
          "base_uri": "https://localhost:8080/",
          "height": 1000
        },
        "id": "ODNVjfVA_WH2",
        "outputId": "7e0432c0-dc87-427a-b9ad-c21ec21ba695"
      },
      "execution_count": 118,
      "outputs": [
        {
          "output_type": "stream",
          "name": "stdout",
          "text": [
            "Original Data:\n",
            "   Height  Weight\n",
            "0     160      55\n",
            "1     165      60\n",
            "2     170      65\n",
            "3     175      70\n",
            "4     180      75\n",
            "5     185      80\n",
            "6     190      85\n",
            "7     195      90\n",
            "8     200      95\n",
            "9     205     100\n",
            "\n",
            "Normalized Data (Z-Score):\n",
            "     Height    Weight\n",
            "0 -1.566699 -1.566699\n",
            "1 -1.218544 -1.218544\n",
            "2 -0.870388 -0.870388\n",
            "3 -0.522233 -0.522233\n",
            "4 -0.174078 -0.174078\n",
            "5  0.174078  0.174078\n",
            "6  0.522233  0.522233\n",
            "7  0.870388  0.870388\n",
            "8  1.218544  1.218544\n",
            "9  1.566699  1.566699\n"
          ]
        },
        {
          "output_type": "display_data",
          "data": {
            "text/plain": [
              "<Figure size 1200x800 with 2 Axes>"
            ],
            "image/png": "[encoded data removed]"
          },
          "metadata": {}
        }
      ]
    },
    {
      "cell_type": "markdown",
      "source": [
        "##Q19. Compare two datasets using their standard deviations."
      ],
      "metadata": {
        "id": "PR2vE5ip69PL"
      }
    },
    {
      "cell_type": "code",
      "source": [
        "import numpy as np\n",
        "\n",
        "#dataset 1\n",
        "data1 = [12, 15, 14, 10, 8, 12, 15, 19, 22, 30, 18, 21, 25, 12, 17]\n",
        "\n",
        "#dataset 2\n",
        "data2 = [20, 22, 24, 26, 28, 30, 32, 34, 36, 38, 40]\n",
        "\n",
        "\n",
        "#standard deviation for each dataset\n",
        "std_dev_1 = np.std(data1)\n",
        "std_dev_2 = np.std(data2)\n",
        "\n",
        "#printing the results\n",
        "print(f\"Standard Deviation of Dataset 1: {std_dev_1}\")\n",
        "print(f\"Standard Deviation of Dataset 2: {std_dev_2}\")\n",
        "\n",
        "#interpretation\n",
        "if std_dev_1 > std_dev_2:\n",
        "    print(\"\\nDataset 1 has a higher variability (spread) than Dataset 2.\")\n",
        "elif std_dev_1 < std_dev_2:\n",
        "    print(\"\\nDataset 2 has a higher variability (spread) than Dataset 1.\")\n",
        "else:\n",
        "    print(\"\\nBoth datasets have the same variability.\")"
      ],
      "metadata": {
        "colab": {
          "base_uri": "https://localhost:8080/"
        },
        "id": "ufRHS5wt_WuO",
        "outputId": "a3eb27b1-2fff-42a7-d645-36dac4300320"
      },
      "execution_count": 119,
      "outputs": [
        {
          "output_type": "stream",
          "name": "stdout",
          "text": [
            "Standard Deviation of Dataset 1: 5.769652406245014\n",
            "Standard Deviation of Dataset 2: 6.324555320336759\n",
            "\n",
            "Dataset 2 has a higher variability (spread) than Dataset 1.\n"
          ]
        }
      ]
    },
    {
      "cell_type": "markdown",
      "source": [
        "##Q20. Write a Python program to visualize covariance using a heatmap."
      ],
      "metadata": {
        "id": "3A5cj43N7B9k"
      }
    },
    {
      "cell_type": "code",
      "source": [
        "import seaborn as sns\n",
        "import matplotlib.pyplot as plt\n",
        "import pandas as pd\n",
        "\n",
        "#datasets\n",
        "data = {\"weight_in_kg\" : [46, 72, 100, 39, 45, 42, 42, 81, 67, 67, 65, 46, 55, 46, 58, 98, 46], \"height_in_cm\" : [103, 98, 117, 105, 146, 145, 99, 169, 200, 139, 179, 178, 165, 188, 155, 172, 174]}\n",
        "df = pd.DataFrame(data)\n",
        "\n",
        "#covariance\n",
        "covar = df.cov()\n",
        "\n",
        "#visualization\n",
        "plt.figure(figsize=(7, 5))\n",
        "sns.heatmap(covar, annot= True)\n",
        "\n",
        "plt.title(\"Covariance Matrix Heatmap\")\n",
        "\n",
        "plt.show()"
      ],
      "metadata": {
        "colab": {
          "base_uri": "https://localhost:8080/",
          "height": 468
        },
        "id": "oDiBMvYz_Xim",
        "outputId": "e212a417-bb36-4749-f460-54086fc0e9d6"
      },
      "execution_count": 120,
      "outputs": [
        {
          "output_type": "display_data",
          "data": {
            "text/plain": [
              "<Figure size 700x500 with 2 Axes>"
            ],
            "image/png": "[encoded data removed]"
          },
          "metadata": {}
        }
      ]
    },
    {
      "cell_type": "markdown",
      "source": [
        "##Q21. Use seaborn to create a correlation matrix for a dataset."
      ],
      "metadata": {
        "id": "I7dob4Bu7Gos"
      }
    },
    {
      "cell_type": "code",
      "source": [
        "import seaborn as sns\n",
        "import matplotlib.pyplot as plt\n",
        "import pandas as pd\n",
        "\n",
        "#dataset\n",
        "data = {'A': [12, 15, 14, 10, 8, 12, 15, 19, 22, 30], 'B': [22, 25, 24, 26, 28, 30, 32, 34, 36, 38], 'C': [5, 7, 6, 8, 7, 6, 7, 9, 10, 11]}\n",
        "\n",
        "#dataFrame\n",
        "df = pd.DataFrame(data)\n",
        "\n",
        "#correlation matrix\n",
        "corr_matrix = df.corr()\n",
        "print(\"Correlation Matrix:\", corr_matrix)\n",
        "print(\"\\n\")\n",
        "#heatmap using Seaborn\n",
        "plt.figure(figsize=(8, 6))\n",
        "sns.heatmap(corr_matrix, annot=True)\n",
        "\n",
        "plt.title(\"Correlation Matrix Heatmap\")\n",
        "plt.show()"
      ],
      "metadata": {
        "colab": {
          "base_uri": "https://localhost:8080/",
          "height": 649
        },
        "id": "0iguwfRq_YA2",
        "outputId": "8e60ba87-4f1a-4e59-c2f9-0c9ebeb0f012"
      },
      "execution_count": 121,
      "outputs": [
        {
          "output_type": "stream",
          "name": "stdout",
          "text": [
            "Correlation Matrix:           A         B         C\n",
            "A  1.000000  0.779262  0.811336\n",
            "B  0.779262  1.000000  0.856623\n",
            "C  0.811336  0.856623  1.000000\n",
            "\n",
            "\n"
          ]
        },
        {
          "output_type": "display_data",
          "data": {
            "text/plain": [
              "<Figure size 800x600 with 2 Axes>"
            ],
            "image/png": "[encoded data removed]"
          },
          "metadata": {}
        }
      ]
    },
    {
      "cell_type": "markdown",
      "source": [
        "##Q22. Generate a dataset and implement both variance and standard deviation computations."
      ],
      "metadata": {
        "id": "4eUJtP0c7L2N"
      }
    },
    {
      "cell_type": "code",
      "source": [
        "import numpy as np\n",
        "\n",
        "#generating a random dataset (for example, 100 random numbers)\n",
        "np.random.seed(42)\n",
        "data = np.random.randint(10, 50, size=100)  # 100 random integers between 10 and 50\n",
        "\n",
        "#variance and Standard Deviation\n",
        "variance_ = np.var(data)\n",
        "std_dev_ = np.std(data)\n",
        "\n",
        "#results\n",
        "print(f\"Variance : {variance_}\")\n",
        "print(f\"Standard Deviation : {std_dev_}\")"
      ],
      "metadata": {
        "colab": {
          "base_uri": "https://localhost:8080/"
        },
        "id": "s57m8XAc_Yne",
        "outputId": "e816ccb7-6249-459c-a05f-ba5c40950457"
      },
      "execution_count": 122,
      "outputs": [
        {
          "output_type": "stream",
          "name": "stdout",
          "text": [
            "Variance : 132.2059\n",
            "Standard Deviation : 11.49808244882598\n"
          ]
        }
      ]
    },
    {
      "cell_type": "markdown",
      "source": [
        "##Q23. Visualize skewness and kurtosis using Python libraries like matplotlib or seaborn."
      ],
      "metadata": {
        "id": "7kKYTLQj7RCt"
      }
    },
    {
      "cell_type": "code",
      "source": [
        "import numpy as np\n",
        "import seaborn as sns\n",
        "import matplotlib.pyplot as plt\n",
        "from scipy.stats import skew, kurtosis\n",
        "\n",
        "#random dataset\n",
        "np.random.seed(42)\n",
        "data = np.random.lognormal(mean=0, sigma=1, size=1000)  # Log-normal distribution\n",
        "\n",
        "#calculating skewness and kurtosis\n",
        "data_skewness = skew(data)\n",
        "data_kurtosis = kurtosis(data)\n",
        "\n",
        "#printing skewness and kurtosis values\n",
        "print(f\"Skewness: {data_skewness}\")\n",
        "print(f\"Kurtosis: {data_kurtosis}\")\n",
        "print(\"\\n\")\n",
        "\n",
        "# Visualize the data distribution with Histogram\n",
        "plt.figure(figsize=(14,9))\n",
        "\n",
        "plt.subplot(1, 2, 1)\n",
        "sns.histplot(data, kde=True, bins=30, color='blue')\n",
        "plt.title(f\"Skewness: {data_skewness:.4f}\")\n",
        "\n",
        "plt.subplot(1, 2, 2)\n",
        "plt.hist(data, bins=40, alpha = 0.8, color='red', edgecolor = 'black')\n",
        "plt.title(f\"Kurtosis: {data_kurtosis:.4f}\")\n",
        "\n",
        "plt.tight_layout()\n",
        "plt.show()"
      ],
      "metadata": {
        "colab": {
          "base_uri": "https://localhost:8080/",
          "height": 976
        },
        "id": "ADEvYX3O_ZFe",
        "outputId": "c6a475b0-84ca-4035-9ea7-9987f0bc296b"
      },
      "execution_count": 137,
      "outputs": [
        {
          "output_type": "stream",
          "name": "stdout",
          "text": [
            "Skewness: 8.298614407420732\n",
            "Kurtosis: 125.99594672890413\n",
            "\n",
            "\n"
          ]
        },
        {
          "output_type": "display_data",
          "data": {
            "text/plain": [
              "<Figure size 1400x900 with 2 Axes>"
            ],
            "image/png": "[encoded data removed]"
          },
          "metadata": {}
        }
      ]
    },
    {
      "cell_type": "markdown",
      "source": [
        "##Q24. Implement the Pearson and Spearman correlation coefficients for a dataset."
      ],
      "metadata": {
        "id": "swUjgLWf7Viu"
      }
    },
    {
      "cell_type": "code",
      "source": [
        "import numpy as np\n",
        "import pandas as pd\n",
        "import seaborn as sns\n",
        "import matplotlib.pyplot as plt\n",
        "from scipy.stats import pearsonr, spearmanr\n",
        "\n",
        "#dataset with two variables\n",
        "data = {'X': [12, 15, 14, 10, 8, 12, 15, 19, 22, 30, 77, 90, 59, 78, 98, 78, 98], 'Y': [22, 25, 24, 26, 28, 30, 32, 34, 36, 38, 53, 33, 44, 55, 67, 78, 15]}\n",
        "\n",
        "#dataFrame\n",
        "df = pd.DataFrame(data)\n",
        "\n",
        "#Pearson Correlation\n",
        "pearson_corr, _ = pearsonr(df['X'], df['Y'])\n",
        "\n",
        "#Spearman Correlation\n",
        "spearman_corr, _ = spearmanr(df['X'], df['Y'])\n",
        "\n",
        "#correlation results\n",
        "print(f\"Pearson Correlation: {pearson_corr}\")\n",
        "print(f\"Spearman Correlation: {spearman_corr}\")\n",
        "\n",
        "#visualize the relationship using a scatter plot\n",
        "plt.figure(figsize=(8, 6))\n",
        "\n",
        "sns.scatterplot(x=df['X'], y=df['Y'], color='indigo')\n",
        "\n",
        "plt.title(f\"Scatter Plot of X and Y \\nPearson: {pearson_corr:.5f}, Spearman: {spearman_corr:.5f}\")\n",
        "plt.xlabel('X')\n",
        "plt.ylabel('Y')\n",
        "plt.show()"
      ],
      "metadata": {
        "colab": {
          "base_uri": "https://localhost:8080/",
          "height": 620
        },
        "id": "EQZMuB6E_ZlG",
        "outputId": "6ebb5f49-11ec-4e68-f899-b0ae7a5e9e46"
      },
      "execution_count": 124,
      "outputs": [
        {
          "output_type": "stream",
          "name": "stdout",
          "text": [
            "Pearson Correlation: 0.553779411252803\n",
            "Spearman Correlation: 0.542999182005329\n"
          ]
        },
        {
          "output_type": "display_data",
          "data": {
            "text/plain": [
              "<Figure size 800x600 with 1 Axes>"
            ],
            "image/png": "[encoded data removed]"
          },
          "metadata": {}
        }
      ]
    }
  ]
}